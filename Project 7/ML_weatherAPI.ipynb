{
 "cells": [
  {
   "cell_type": "code",
   "execution_count": 6,
   "metadata": {},
   "outputs": [
    {
     "name": "stdout",
     "output_type": "stream",
     "text": [
      "<class 'str'>\n",
      "1\n",
      "City Name : Mumbai\n",
      "Temperature :  304.65\n",
      "Weather :  Haze\n",
      "<class 'str'>\n",
      "2\n",
      "City Name : Jhansi\n",
      "Temperature :  317.6\n",
      "Weather :  Clear\n",
      "<class 'str'>\n",
      "3\n",
      "City Name : Patna\n",
      "Temperature :  304.15\n",
      "Weather :  Haze\n",
      "<class 'str'>\n",
      "4\n",
      "City Name : Nagpur\n",
      "Temperature :  312.15\n",
      "Weather :  Haze\n",
      "<class 'str'>\n",
      "5\n",
      "City Name : Bilaspur\n",
      "Temperature :  316.1\n",
      "Weather :  Clouds\n",
      "<class 'str'>\n",
      "6\n",
      "City Name : Vijayawada\n",
      "Temperature :  308.15\n",
      "Weather :  Haze\n",
      "<class 'str'>\n",
      "7\n",
      "City Name : Pune\n",
      "Temperature :  305.8\n",
      "Weather :  Clouds\n",
      "<class 'str'>\n",
      "8\n",
      "City Name : Rachi\n",
      "Temperature :  290.5\n",
      "Weather :  Clear\n",
      "<class 'str'>\n",
      "9\n",
      "City Name : Rentachintala\n",
      "Temperature :  314.8\n",
      "Weather :  Clouds\n",
      "<class 'str'>\n",
      "10\n",
      "City Name : Surat\n",
      "Temperature :  305.15\n",
      "Weather :  Haze\n",
      "<class 'str'>\n",
      "11\n",
      "City Name : Vadodara\n",
      "Temperature :  306.15\n",
      "Weather :  Clouds\n",
      "<class 'str'>\n",
      "12\n",
      "City Name : Ahmedabad\n",
      "Temperature :  306.15\n",
      "Weather :  Smoke\n",
      "<class 'str'>\n",
      "13\n",
      "City Name : Goa\n",
      "Temperature :  305.6\n",
      "Weather :  Clouds\n",
      "<class 'str'>\n",
      "14\n",
      "City Name : Lucknow\n",
      "Temperature :  304.15\n",
      "Weather :  Haze\n",
      "<class 'str'>\n",
      "15\n",
      "City Name : Kanpur\n",
      "Temperature :  304.15\n",
      "Weather :  Haze\n",
      "<class 'str'>\n",
      "16\n",
      "City Name : Delhi\n",
      "Temperature :  310.66\n",
      "Weather :  Haze\n"
     ]
    }
   ],
   "source": [
    "import requests \n",
    "import json\n",
    "temp = []\n",
    "city = []\n",
    "weather = []\n",
    "k = 0\n",
    "caps = [\"Mumbai\",\"Jhansi\",\"patna\",\"Nagpur\",\"Bilaspur\",\"Vijayawada\",\"pune\",\"Rachi\",\"Rentachintala\",\"Surat\",\"Vadodara\",\"Ahmedabad\",\"Goa\",\"Lucknow\",\"Kanpur\",\"Delhi\"]\n",
    "for i in caps:\n",
    "    z = requests.get('http://api.openweathermap.org/data/2.5/weather?q='+i+'&APPID=9c28a85dca23d12779f571c379576d00')\n",
    "    dic = json.loads(z.content.decode())\n",
    "    print(type(z.content.decode()))\n",
    "    if dic['cod'] == 200:\n",
    "        k=k+1\n",
    "        print(k)\n",
    "        print(\"City Name :\",dic['name'])\n",
    "        print(\"Temperature : \",dic['main']['temp'])\n",
    "        print(\"Weather : \",dic['weather'][0]['main'])\n",
    "        temp.append(dic['main']['temp'])\n",
    "        city.append(dic['name'])\n",
    "        weather.append(dic['weather'][0]['main'])\n",
    "    else:\n",
    "        print(i,\"Spelling is Incorrect\")\n",
    "        \n",
    "        "
   ]
  },
  {
   "cell_type": "code",
   "execution_count": 19,
   "metadata": {},
   "outputs": [],
   "source": [
    "import pandas as pd\n",
    "import matplotlib.pyplot as plt"
   ]
  },
  {
   "cell_type": "code",
   "execution_count": 20,
   "metadata": {},
   "outputs": [],
   "source": [
    "df=pd.DataFrame({\"City\":city,\"Temperature\":temp,\"Weather\":weather})"
   ]
  },
  {
   "cell_type": "code",
   "execution_count": 21,
   "metadata": {},
   "outputs": [
    {
     "data": {
      "text/html": [
       "<div>\n",
       "<style scoped>\n",
       "    .dataframe tbody tr th:only-of-type {\n",
       "        vertical-align: middle;\n",
       "    }\n",
       "\n",
       "    .dataframe tbody tr th {\n",
       "        vertical-align: top;\n",
       "    }\n",
       "\n",
       "    .dataframe thead th {\n",
       "        text-align: right;\n",
       "    }\n",
       "</style>\n",
       "<table border=\"1\" class=\"dataframe\">\n",
       "  <thead>\n",
       "    <tr style=\"text-align: right;\">\n",
       "      <th></th>\n",
       "      <th>City</th>\n",
       "      <th>Temperature</th>\n",
       "      <th>Weather</th>\n",
       "    </tr>\n",
       "  </thead>\n",
       "  <tbody>\n",
       "    <tr>\n",
       "      <th>0</th>\n",
       "      <td>Mumbai</td>\n",
       "      <td>304.65</td>\n",
       "      <td>Haze</td>\n",
       "    </tr>\n",
       "    <tr>\n",
       "      <th>1</th>\n",
       "      <td>Jhansi</td>\n",
       "      <td>317.60</td>\n",
       "      <td>Clear</td>\n",
       "    </tr>\n",
       "    <tr>\n",
       "      <th>2</th>\n",
       "      <td>Patna</td>\n",
       "      <td>304.15</td>\n",
       "      <td>Haze</td>\n",
       "    </tr>\n",
       "    <tr>\n",
       "      <th>3</th>\n",
       "      <td>Nagpur</td>\n",
       "      <td>312.15</td>\n",
       "      <td>Haze</td>\n",
       "    </tr>\n",
       "    <tr>\n",
       "      <th>4</th>\n",
       "      <td>Bilaspur</td>\n",
       "      <td>316.10</td>\n",
       "      <td>Clouds</td>\n",
       "    </tr>\n",
       "    <tr>\n",
       "      <th>5</th>\n",
       "      <td>Vijayawada</td>\n",
       "      <td>308.15</td>\n",
       "      <td>Haze</td>\n",
       "    </tr>\n",
       "    <tr>\n",
       "      <th>6</th>\n",
       "      <td>Pune</td>\n",
       "      <td>305.80</td>\n",
       "      <td>Clouds</td>\n",
       "    </tr>\n",
       "    <tr>\n",
       "      <th>7</th>\n",
       "      <td>Rachi</td>\n",
       "      <td>290.50</td>\n",
       "      <td>Clear</td>\n",
       "    </tr>\n",
       "    <tr>\n",
       "      <th>8</th>\n",
       "      <td>Rentachintala</td>\n",
       "      <td>314.80</td>\n",
       "      <td>Clouds</td>\n",
       "    </tr>\n",
       "    <tr>\n",
       "      <th>9</th>\n",
       "      <td>Surat</td>\n",
       "      <td>305.15</td>\n",
       "      <td>Haze</td>\n",
       "    </tr>\n",
       "    <tr>\n",
       "      <th>10</th>\n",
       "      <td>Vadodara</td>\n",
       "      <td>306.15</td>\n",
       "      <td>Clouds</td>\n",
       "    </tr>\n",
       "    <tr>\n",
       "      <th>11</th>\n",
       "      <td>Ahmedabad</td>\n",
       "      <td>306.15</td>\n",
       "      <td>Smoke</td>\n",
       "    </tr>\n",
       "    <tr>\n",
       "      <th>12</th>\n",
       "      <td>Goa</td>\n",
       "      <td>305.60</td>\n",
       "      <td>Clouds</td>\n",
       "    </tr>\n",
       "    <tr>\n",
       "      <th>13</th>\n",
       "      <td>Lucknow</td>\n",
       "      <td>304.15</td>\n",
       "      <td>Haze</td>\n",
       "    </tr>\n",
       "    <tr>\n",
       "      <th>14</th>\n",
       "      <td>Kanpur</td>\n",
       "      <td>304.15</td>\n",
       "      <td>Haze</td>\n",
       "    </tr>\n",
       "    <tr>\n",
       "      <th>15</th>\n",
       "      <td>Delhi</td>\n",
       "      <td>310.66</td>\n",
       "      <td>Haze</td>\n",
       "    </tr>\n",
       "  </tbody>\n",
       "</table>\n",
       "</div>"
      ],
      "text/plain": [
       "             City  Temperature Weather\n",
       "0          Mumbai       304.65    Haze\n",
       "1          Jhansi       317.60   Clear\n",
       "2           Patna       304.15    Haze\n",
       "3          Nagpur       312.15    Haze\n",
       "4        Bilaspur       316.10  Clouds\n",
       "5      Vijayawada       308.15    Haze\n",
       "6            Pune       305.80  Clouds\n",
       "7           Rachi       290.50   Clear\n",
       "8   Rentachintala       314.80  Clouds\n",
       "9           Surat       305.15    Haze\n",
       "10       Vadodara       306.15  Clouds\n",
       "11      Ahmedabad       306.15   Smoke\n",
       "12            Goa       305.60  Clouds\n",
       "13        Lucknow       304.15    Haze\n",
       "14         Kanpur       304.15    Haze\n",
       "15          Delhi       310.66    Haze"
      ]
     },
     "execution_count": 21,
     "metadata": {},
     "output_type": "execute_result"
    }
   ],
   "source": [
    "df"
   ]
  },
  {
   "cell_type": "code",
   "execution_count": 22,
   "metadata": {},
   "outputs": [
    {
     "data": {
      "text/plain": [
       "array(['Haze', 'Clear', 'Clouds', 'Smoke'], dtype=object)"
      ]
     },
     "execution_count": 22,
     "metadata": {},
     "output_type": "execute_result"
    }
   ],
   "source": [
    "df['Weather'].unique()"
   ]
  },
  {
   "cell_type": "code",
   "execution_count": 28,
   "metadata": {},
   "outputs": [
    {
     "data": {
      "text/plain": [
       "([0, 1, 2, 3], <a list of 4 Text xticklabel objects>)"
      ]
     },
     "execution_count": 28,
     "metadata": {},
     "output_type": "execute_result"
    },
    {
     "data": {
      "image/png": "[encoded data removed]",
      "text/plain": [
       "<Figure size 432x288 with 1 Axes>"
      ]
     },
     "metadata": {
      "needs_background": "light"
     },
     "output_type": "display_data"
    }
   ],
   "source": [
    "plt.hist(weather,color='red')\n",
    "plt.xlabel('Types Of Weather')\n",
    "plt.ylabel('City Count')\n",
    "plt.title('Weather report')\n",
    "plt.xticks(rotation=90)"
   ]
  },
  {
   "cell_type": "code",
   "execution_count": 32,
   "metadata": {},
   "outputs": [
    {
     "data": {
      "text/plain": [
       "([<matplotlib.patches.Wedge at 0x120659208>,\n",
       "  <matplotlib.patches.Wedge at 0x120659908>,\n",
       "  <matplotlib.patches.Wedge at 0x120660048>,\n",
       "  <matplotlib.patches.Wedge at 0x120660748>],\n",
       " [Text(6.735557395310444e-17, 1.1, 'Haze'),\n",
       "  Text(-0.6111272563215624, -0.9146165735327998, 'Clouds'),\n",
       "  Text(0.7778174593052023, -0.7778174593052025, 'Clear'),\n",
       "  Text(1.0788638084435533, -0.21459935421774162, 'Smoke')],\n",
       " [Text(3.6739403974420595e-17, 0.6, '50.0%'),\n",
       "  Text(-0.3333421398117613, -0.4988817673815271, '31.2%'),\n",
       "  Text(0.42426406871192845, -0.4242640687119286, '12.5%'),\n",
       "  Text(0.5884711682419381, -0.11705419320967722, '6.2%')])"
      ]
     },
     "execution_count": 32,
     "metadata": {},
     "output_type": "execute_result"
    },
    {
     "data": {
      "image/png": "[encoded data removed]",
      "text/plain": [
       "<Figure size 432x288 with 1 Axes>"
      ]
     },
     "metadata": {},
     "output_type": "display_data"
    }
   ],
   "source": [
    "plt.pie(df.Weather.value_counts(),labels=df.Weather.value_counts().index,autopct='%1.1f%%')"
   ]
  },
  {
   "cell_type": "code",
   "execution_count": 37,
   "metadata": {},
   "outputs": [
    {
     "data": {
      "text/plain": [
       "(array([285., 290., 295., 300., 305., 310., 315., 320.]),\n",
       " <a list of 8 Text xticklabel objects>)"
      ]
     },
     "execution_count": 37,
     "metadata": {},
     "output_type": "execute_result"
    },
    {
     "data": {
      "image/png": "[encoded data removed]",
      "text/plain": [
       "<Figure size 432x288 with 1 Axes>"
      ]
     },
     "metadata": {
      "needs_background": "light"
     },
     "output_type": "display_data"
    }
   ],
   "source": [
    "plt.scatter(temp,city,marker='.')\n",
    "plt.xticks(rotation=90)"
   ]
  },
  {
   "cell_type": "code",
   "execution_count": 38,
   "metadata": {},
   "outputs": [],
   "source": [
    "import numpy as np"
   ]
  },
  {
   "cell_type": "code",
   "execution_count": 39,
   "metadata": {},
   "outputs": [],
   "source": [
    "number1 = np.array(temp)"
   ]
  },
  {
   "cell_type": "code",
   "execution_count": 40,
   "metadata": {},
   "outputs": [
    {
     "data": {
      "text/plain": [
       "[<matplotlib.lines.Line2D at 0x120b42278>]"
      ]
     },
     "execution_count": 40,
     "metadata": {},
     "output_type": "execute_result"
    },
    {
     "data": {
      "image/png": "[encoded data removed]",
      "text/plain": [
       "<Figure size 432x288 with 1 Axes>"
      ]
     },
     "metadata": {
      "needs_background": "light"
     },
     "output_type": "display_data"
    }
   ],
   "source": [
    "plt.plot(number1)"
   ]
  },
  {
   "cell_type": "code",
   "execution_count": null,
   "metadata": {},
   "outputs": [],
   "source": []
  },
  {
   "cell_type": "code",
   "execution_count": null,
   "metadata": {},
   "outputs": [],
   "source": []
  }
 ],
 "metadata": {
  "kernelspec": {
   "display_name": "Python 3",
   "language": "python",
   "name": "python3"
  },
  "language_info": {
   "codemirror_mode": {
    "name": "ipython",
    "version": 3
   },
   "file_extension": ".py",
   "mimetype": "text/x-python",
   "name": "python",
   "nbconvert_exporter": "python",
   "pygments_lexer": "ipython3",
   "version": "3.7.3"
  }
 },
 "nbformat": 4,
 "nbformat_minor": 2
}
