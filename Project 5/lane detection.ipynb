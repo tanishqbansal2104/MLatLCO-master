{
 "cells": [
  {
   "cell_type": "code",
   "execution_count": 2,
   "metadata": {},
   "outputs": [],
   "source": [
    "import cv2 as cv\n",
    "import numpy as np\n",
    "import matplotlib.pyplot as plt\n",
    "from pylab import rcParams\n",
    "rcParams['figure.figsize']=(10,10)\n",
    "\n",
    "def get_vertice(image):\n",
    "    rows, cols = image.shape[:2]\n",
    "    bottom_left  = [cols*0.1,  rows*0.95]\n",
    "    top_left     = [cols*0.45, rows*0.6]\n",
    "    bottom_right = [cols*0.9,  rows*0.95]\n",
    "    top_right    = [cols*0.55, rows*0.6] \n",
    "    \n",
    "    ver = np.array([[bottom_left, top_left, top_right, bottom_right]], dtype=np.int32)\n",
    "    return ver"
   ]
  },
  {
   "cell_type": "code",
   "execution_count": 3,
   "metadata": {},
   "outputs": [],
   "source": [
    "cam = cv.VideoCapture(\"solidWhiteRight.mp4\")\n",
    "while True:\n",
    "    try:\n",
    "        _,frame = cam.read()\n",
    "        img_gray = cv.cvtColor(frame,cv.COLOR_BGR2GRAY)\n",
    "        img_blur = cv.GaussianBlur(frame,(5,5),0)\n",
    "        img_canny = cv.Canny(img_blur,120,240)\n",
    "        img_test = frame.copy()\n",
    "        get_vertice(img_test)\n",
    "        mask = np.zeros_like(img_canny)\n",
    "        points = get_vertice(img_canny)\n",
    "        cv.fillPoly(mask,points,(255,255,255))\n",
    "        com=cv.bitwise_and(img_canny,mask)\n",
    "        lines = cv.HoughLinesP(com,\n",
    "              rho=6,\n",
    "              theta=np.pi/60,\n",
    "              threshold=140,\n",
    "              lines = np.array([]),\n",
    "              minLineLength=40,\n",
    "              maxLineGap=5\n",
    "             )\n",
    "        lines = lines.reshape(-1,4)\n",
    "        dg = frame.copy()\n",
    "        for l in lines:\n",
    "            x1,y1,x2,y2 = l\n",
    "            cv.line(dg,(x1,y1),(x2,y2),(23,11,255),5)\n",
    "        cv.imshow(\"Lane Detection\",dg)\n",
    "    except:\n",
    "        cv.destroyAllWindows()\n",
    "        break\n",
    "    if cv.waitKey(10) & 0xFF == ord('q'):\n",
    "        break\n",
    "        cv.destroyAllWindows()"
   ]
  },
  {
   "cell_type": "code",
   "execution_count": 2,
   "metadata": {},
   "outputs": [],
   "source": []
  },
  {
   "cell_type": "code",
   "execution_count": null,
   "metadata": {},
   "outputs": [],
   "source": []
  }
 ],
 "metadata": {
  "kernelspec": {
   "display_name": "Python 3",
   "language": "python",
   "name": "python3"
  },
  "language_info": {
   "codemirror_mode": {
    "name": "ipython",
    "version": 3
   },
   "file_extension": ".py",
   "mimetype": "text/x-python",
   "name": "python",
   "nbconvert_exporter": "python",
   "pygments_lexer": "ipython3",
   "version": "3.7.3"
  }
 },
 "nbformat": 4,
 "nbformat_minor": 2
}
