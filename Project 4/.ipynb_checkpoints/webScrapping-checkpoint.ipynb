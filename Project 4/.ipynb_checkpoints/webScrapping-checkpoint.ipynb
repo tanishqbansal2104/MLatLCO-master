{
 "cells": [
  {
   "cell_type": "code",
   "execution_count": 2,
   "metadata": {},
   "outputs": [
    {
     "name": "stdout",
     "output_type": "stream",
     "text": [
      "Paradigm\tMulti-paradigm: functional, imperative, object-oriented, reflective\n",
      "Designed by\tGuido van Rossum\n",
      "Developer\tPython Software Foundation\n",
      "First appeared\t1990; 29 years ago (1990)[1]\n",
      "Stable release\t\n",
      "Typing discipline\t3.7.3 / 25 March 2019; 2 months ago (2019-03-25)[2]2.7.16 / 4 March 2019; 3 months ago (2019-03-04)[3]\n",
      "\n",
      "License\t\n",
      "\n",
      "Filename extensions\tDuck, dynamic, gradual (since 3.5)[4]\n",
      "Website\tPython Software Foundation License\n",
      "Major implementations\t.py, .pyc, .pyd, .pyo (prior to 3.5),[5] .pyw, .pyz (since 3.5)[6]\n",
      "Dialects\twww.python.org\n",
      "Influenced by\tCPython, PyPy, Stackless Python, MicroPython, CircuitPython, IronPython, Jython\n",
      "Influenced\tCython, RPython, Starlark[7]\n"
     ]
    }
   ],
   "source": [
    "from bs4 import BeautifulSoup\n",
    "import requests\n",
    "url=\"https://en.wikipedia.org/wiki/Python_(programming_language)\"\n",
    "raw_data=requests.get(url)\n",
    "data=raw_data.content\n",
    "bs=BeautifulSoup(data,\"lxml\")\n",
    "g=bs.find_all(\"table\",{\"class\":\"infobox vevent\"})\n",
    "\n",
    "th = g[0].find_all(\"th\")\n",
    "title=[]\n",
    "for i in th:\n",
    "    title.append(i.text)\n",
    "td = g[0].find_all(\"td\")\n",
    "des=[]\n",
    "for j in td:\n",
    "    des.append(j.text)\n",
    "\n",
    "k = min(len(des),len(title))\n",
    "for jk in range(k):\n",
    "    print(\"\"+title[jk]+\"\\t\"+des[jk+1])"
   ]
  },
  {
   "cell_type": "code",
   "execution_count": null,
   "metadata": {},
   "outputs": [],
   "source": []
  }
 ],
 "metadata": {
  "kernelspec": {
   "display_name": "Python 3",
   "language": "python",
   "name": "python3"
  },
  "language_info": {
   "codemirror_mode": {
    "name": "ipython",
    "version": 3
   },
   "file_extension": ".py",
   "mimetype": "text/x-python",
   "name": "python",
   "nbconvert_exporter": "python",
   "pygments_lexer": "ipython3",
   "version": "3.7.3"
  }
 },
 "nbformat": 4,
 "nbformat_minor": 2
}
