{
 "cells": [
  {
   "cell_type": "code",
   "execution_count": 2,
   "metadata": {},
   "outputs": [
    {
     "name": "stdout",
     "output_type": "stream",
     "text": [
      "311.661\n",
      "Bilaspur 311.661\n"
     ]
    }
   ],
   "source": [
    "#Here We Will Find The Highest Temperature ZONE from the List Given.\n",
    "import requests as rs\n",
    "import json\n",
    "dic={}\n",
    "city=\"\"\n",
    "temp=0\n",
    "maxx=0\n",
    "vcity=[\"Mumbai\",\"Jhansi\",\"patna\",\"Nagpur\",\"Bilaspur\",\"Vijayawada\",\"pune\",\"Rachi\",\"Rentachintala\",\"Surat\",\"Vadodara\",\"Ahmedabad\",\"Goa\",\"Lucknow\",\"Kanpur\",\"Delhi\"]\n",
    "for i in vcity:\n",
    "    vtemp=rs.get(\"http://api.openweathermap.org/data/2.5/weather?q=\"+i+\"&APPID=9c28a85dca23d12779f571c379576d00\").content\n",
    "    data=json.loads(vtemp)\n",
    "    rtem=data[\"main\"][\"temp\"]\n",
    "    vcity=data[\"name\"]\n",
    "    dic[i]=data[\"main\"][\"temp\"]\n",
    "    if maxx < rtem:\n",
    "        maxx = rtem\n",
    "print(maxx) \n",
    "for c,v in dic.items():\n",
    "    if temp<v:\n",
    "        temp=v\n",
    "        city=c        \n",
    "print(city,temp)"
   ]
  },
  {
   "cell_type": "code",
   "execution_count": null,
   "metadata": {},
   "outputs": [],
   "source": []
  }
 ],
 "metadata": {
  "kernelspec": {
   "display_name": "Python 3",
   "language": "python",
   "name": "python3"
  },
  "language_info": {
   "codemirror_mode": {
    "name": "ipython",
    "version": 3
   },
   "file_extension": ".py",
   "mimetype": "text/x-python",
   "name": "python",
   "nbconvert_exporter": "python",
   "pygments_lexer": "ipython3",
   "version": "3.7.3"
  }
 },
 "nbformat": 4,
 "nbformat_minor": 2
}
